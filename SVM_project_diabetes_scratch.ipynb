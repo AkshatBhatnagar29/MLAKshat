{
  "nbformat": 4,
  "nbformat_minor": 0,
  "metadata": {
    "colab": {
      "provenance": [],
      "include_colab_link": true
    },
    "kernelspec": {
      "name": "python3",
      "display_name": "Python 3"
    },
    "language_info": {
      "name": "python"
    }
  },
  "cells": [
    {
      "cell_type": "markdown",
      "metadata": {
        "id": "view-in-github",
        "colab_type": "text"
      },
      "source": [
        "<a href=\"https://colab.research.google.com/github/AkshatBhatnagar29/MLAKshat/blob/SVM_lv1/SVM_project_diabetes_scratch.ipynb\" target=\"_parent\"><img src=\"https://colab.research.google.com/assets/colab-badge.svg\" alt=\"Open In Colab\"/></a>"
      ]
    },
    {
      "cell_type": "markdown",
      "metadata": {
        "id": "OoQnMmCCBfTF"
      },
      "source": [
        "**SVM Classifier**"
      ]
    },
    {
      "cell_type": "code",
      "source": [],
      "metadata": {
        "id": "TOXnDwQ24BE1"
      },
      "execution_count": null,
      "outputs": []
    },
    {
      "cell_type": "markdown",
      "metadata": {
        "id": "VgNJ4FGKBkIu"
      },
      "source": [
        "Equation of the Hyperplane:\n",
        "\n",
        "**y = wx - b**"
      ]
    },
    {
      "cell_type": "markdown",
      "metadata": {
        "id": "X8OJXGuPvDt2"
      },
      "source": [
        "**Gradient Descent:**\n",
        "\n",
        "Gradient Descent is an optimization algorithm used for minimizing the loss function in various machine learning algorithms. It is used for updating the parameters of the learning model.\n",
        "\n",
        "w  =  w - α*dw\n",
        "\n",
        "b  =  b - α*db"
      ]
    },
    {
      "cell_type": "markdown",
      "metadata": {
        "id": "WSAfYP7WmECB"
      },
      "source": [
        "**Learning Rate:**\n",
        "\n",
        "Learning rate is a tuning parameter in an optimization algorithm that determines the step size at each iteration while moving toward a minimum of a loss function."
      ]
    },
    {
      "cell_type": "markdown",
      "metadata": {
        "id": "E9nX8-OIPWnM"
      },
      "source": [
        "Importing the Dependencies"
      ]
    },
    {
      "cell_type": "code",
      "metadata": {
        "id": "tzuAfRbBGmTH"
      },
      "source": [
        "# importing numpy library\n",
        "import numpy as np"
      ],
      "execution_count": 19,
      "outputs": []
    },
    {
      "cell_type": "markdown",
      "metadata": {
        "id": "p29I221pPhkY"
      },
      "source": [
        "Support Vector Machine Classifier"
      ]
    },
    {
      "cell_type": "code",
      "metadata": {
        "id": "x7sKawRDPd4m"
      },
      "source": [
        "class SVM_classifier():\n",
        "\n",
        "\n",
        "  # initiating the hyperparameters\n",
        "  def __init__(self, learning_rate, no_of_iterations, lambda_parameter):\n",
        "\n",
        "    self.learning_rate = learning_rate\n",
        "    self.no_of_iterations = no_of_iterations\n",
        "    self.lambda_parameter = lambda_parameter\n",
        "\n",
        "\n",
        "\n",
        "  # fitting the dataset to SVM Classifier\n",
        "  def fit(self, X, Y):\n",
        "\n",
        "    # m  --> number of Data points --> number of rows\n",
        "    # n  --> number of input features --> number of columns\n",
        "    self.m, self.n = X.shape\n",
        "\n",
        "    # initiating the weight value and bias value\n",
        "\n",
        "    self.w = np.zeros(self.n)\n",
        "\n",
        "    self.b = 0\n",
        "\n",
        "    self.X = X\n",
        "\n",
        "    self.Y = Y\n",
        "\n",
        "    # implementing Gradient Descent algorithm for Optimization\n",
        "\n",
        "    for i in range(self.no_of_iterations):\n",
        "      self.update_weights()\n",
        "\n",
        "\n",
        "\n",
        "  # function for updating the weight and bias value\n",
        "  def update_weights(self):\n",
        "\n",
        "    # label encoding\n",
        "    y_label = np.where(self.Y <= 0, -1, 1)\n",
        "    # y_label = y_label.astype(np.float64)\n",
        "\n",
        "\n",
        "    # gradients ( dw, db)\n",
        "    for index, x_i in enumerate(self.X):\n",
        "\n",
        "\n",
        "      # x_i = np.array(x_i, dtype=np.float64)\n",
        "      # x_i = x_i.astype(np.float64)\n",
        "      condition = y_label[index] * (np.dot(x_i,self.w) - self.b) >= 1\n",
        "\n",
        "      if (condition == True):\n",
        "\n",
        "        dw = 2 * self.lambda_parameter * self.w\n",
        "        db = 0\n",
        "\n",
        "      else:\n",
        "\n",
        "        dw = 2 * self.lambda_parameter * self.w - np.dot(x_i, y_label[index])\n",
        "        db = y_label[index]\n",
        "\n",
        "\n",
        "      self.w = self.w - self.learning_rate * dw\n",
        "\n",
        "      self.b = self.b - self.learning_rate * db\n",
        "\n",
        "\n",
        "\n",
        "  # predict the label for a given input value\n",
        "  def predict(self, X):\n",
        "\n",
        "    output = np.dot(X, self.w) - self.b\n",
        "\n",
        "    predicted_labels = np.sign(output)\n",
        "\n",
        "    y_hat = np.where(predicted_labels <= -1, 0, 1)\n",
        "\n",
        "    return y_hat\n",
        "\n",
        "\n",
        "\n"
      ],
      "execution_count": 62,
      "outputs": []
    },
    {
      "cell_type": "code",
      "source": [
        "import pandas as pd\n",
        "from sklearn.preprocessing import StandardScaler\n",
        "from sklearn.model_selection import train_test_split\n",
        "from sklearn.metrics import accuracy_score\n",
        "\n",
        "\n"
      ],
      "metadata": {
        "id": "vaUJ2TNb4CnT"
      },
      "execution_count": 2,
      "outputs": []
    },
    {
      "cell_type": "code",
      "source": [
        "data=pd.read_csv('/diabetes.csv')"
      ],
      "metadata": {
        "id": "3O4o_uSE4C0y"
      },
      "execution_count": 4,
      "outputs": []
    },
    {
      "cell_type": "code",
      "source": [
        "data['Outcome'].value_counts()"
      ],
      "metadata": {
        "colab": {
          "base_uri": "https://localhost:8080/",
          "height": 178
        },
        "id": "QabQhytL5Fz6",
        "outputId": "11519854-73fc-4b73-e4fa-9a66250cb312"
      },
      "execution_count": 6,
      "outputs": [
        {
          "output_type": "execute_result",
          "data": {
            "text/plain": [
              "Outcome\n",
              "0    500\n",
              "1    268\n",
              "Name: count, dtype: int64"
            ],
            "text/html": [
              "<div>\n",
              "<style scoped>\n",
              "    .dataframe tbody tr th:only-of-type {\n",
              "        vertical-align: middle;\n",
              "    }\n",
              "\n",
              "    .dataframe tbody tr th {\n",
              "        vertical-align: top;\n",
              "    }\n",
              "\n",
              "    .dataframe thead th {\n",
              "        text-align: right;\n",
              "    }\n",
              "</style>\n",
              "<table border=\"1\" class=\"dataframe\">\n",
              "  <thead>\n",
              "    <tr style=\"text-align: right;\">\n",
              "      <th></th>\n",
              "      <th>count</th>\n",
              "    </tr>\n",
              "    <tr>\n",
              "      <th>Outcome</th>\n",
              "      <th></th>\n",
              "    </tr>\n",
              "  </thead>\n",
              "  <tbody>\n",
              "    <tr>\n",
              "      <th>0</th>\n",
              "      <td>500</td>\n",
              "    </tr>\n",
              "    <tr>\n",
              "      <th>1</th>\n",
              "      <td>268</td>\n",
              "    </tr>\n",
              "  </tbody>\n",
              "</table>\n",
              "</div><br><label><b>dtype:</b> int64</label>"
            ]
          },
          "metadata": {},
          "execution_count": 6
        }
      ]
    },
    {
      "cell_type": "markdown",
      "source": [
        "0->Non diabetic\n",
        "1->Diabetic"
      ],
      "metadata": {
        "id": "CwZY3NkZ7qtJ"
      }
    },
    {
      "cell_type": "code",
      "source": [
        "feature=data.drop(columns='Outcome',axis=1)\n",
        "target=data['Outcome']\n",
        "target=target[1:]\n",
        "\n",
        "print(feature)\n",
        "print(target)"
      ],
      "metadata": {
        "colab": {
          "base_uri": "https://localhost:8080/"
        },
        "id": "nd1f5SCg7wDG",
        "outputId": "33dfde92-ce34-43ff-eed5-967ee5043e1e"
      },
      "execution_count": 61,
      "outputs": [
        {
          "output_type": "stream",
          "name": "stdout",
          "text": [
            "     Pregnancies  Glucose  BloodPressure  SkinThickness  Insulin   BMI  \\\n",
            "0              6      148             72             35        0  33.6   \n",
            "1              1       85             66             29        0  26.6   \n",
            "2              8      183             64              0        0  23.3   \n",
            "3              1       89             66             23       94  28.1   \n",
            "4              0      137             40             35      168  43.1   \n",
            "..           ...      ...            ...            ...      ...   ...   \n",
            "763           10      101             76             48      180  32.9   \n",
            "764            2      122             70             27        0  36.8   \n",
            "765            5      121             72             23      112  26.2   \n",
            "766            1      126             60              0        0  30.1   \n",
            "767            1       93             70             31        0  30.4   \n",
            "\n",
            "     DiabetesPedigreeFunction  Age  \n",
            "0                       0.627   50  \n",
            "1                       0.351   31  \n",
            "2                       0.672   32  \n",
            "3                       0.167   21  \n",
            "4                       2.288   33  \n",
            "..                        ...  ...  \n",
            "763                     0.171   63  \n",
            "764                     0.340   27  \n",
            "765                     0.245   30  \n",
            "766                     0.349   47  \n",
            "767                     0.315   23  \n",
            "\n",
            "[768 rows x 8 columns]\n",
            "1      0\n",
            "2      1\n",
            "3      0\n",
            "4      1\n",
            "5      0\n",
            "      ..\n",
            "763    0\n",
            "764    0\n",
            "765    0\n",
            "766    1\n",
            "767    0\n",
            "Name: Outcome, Length: 767, dtype: int64\n"
          ]
        }
      ]
    },
    {
      "cell_type": "code",
      "source": [
        "# Standardization lean standardization more betterly\n",
        "scaler=StandardScaler()\n",
        "scaler.fit(feature)\n",
        "standar_data=scaler.transform(feature)"
      ],
      "metadata": {
        "id": "-FF9x2Mz9SBJ"
      },
      "execution_count": 60,
      "outputs": []
    },
    {
      "cell_type": "code",
      "source": [
        "print(standar_data)"
      ],
      "metadata": {
        "colab": {
          "base_uri": "https://localhost:8080/"
        },
        "id": "BU1tFS8L-XkY",
        "outputId": "bca3d396-4903-44dc-b508-e702530e7e93"
      },
      "execution_count": 10,
      "outputs": [
        {
          "output_type": "stream",
          "name": "stdout",
          "text": [
            "[[ 0.63994726  0.84832379  0.14964075 ...  0.20401277  0.46849198\n",
            "   1.4259954 ]\n",
            " [-0.84488505 -1.12339636 -0.16054575 ... -0.68442195 -0.36506078\n",
            "  -0.19067191]\n",
            " [ 1.23388019  1.94372388 -0.26394125 ... -1.10325546  0.60439732\n",
            "  -0.10558415]\n",
            " ...\n",
            " [ 0.3429808   0.00330087  0.14964075 ... -0.73518964 -0.68519336\n",
            "  -0.27575966]\n",
            " [-0.84488505  0.1597866  -0.47073225 ... -0.24020459 -0.37110101\n",
            "   1.17073215]\n",
            " [-0.84488505 -0.8730192   0.04624525 ... -0.20212881 -0.47378505\n",
            "  -0.87137393]]\n"
          ]
        }
      ]
    },
    {
      "cell_type": "code",
      "source": [
        "feature=standar_data\n",
        "# target=target[1:]\n",
        "feature=feature[1:]\n",
        "print(feature)"
      ],
      "metadata": {
        "colab": {
          "base_uri": "https://localhost:8080/"
        },
        "id": "WZrsUNiJ-hIy",
        "outputId": "80bf5636-4575-46c8-a673-269641e07985"
      },
      "execution_count": 56,
      "outputs": [
        {
          "output_type": "stream",
          "name": "stdout",
          "text": [
            "[[-0.84488505 -1.12339636 -0.16054575 ... -0.68442195 -0.36506078\n",
            "  -0.19067191]\n",
            " [ 1.23388019  1.94372388 -0.26394125 ... -1.10325546  0.60439732\n",
            "  -0.10558415]\n",
            " [-0.84488505 -0.99820778 -0.16054575 ... -0.49404308 -0.92076261\n",
            "  -1.04154944]\n",
            " ...\n",
            " [ 0.3429808   0.00330087  0.14964075 ... -0.73518964 -0.68519336\n",
            "  -0.27575966]\n",
            " [-0.84488505  0.1597866  -0.47073225 ... -0.24020459 -0.37110101\n",
            "   1.17073215]\n",
            " [-0.84488505 -0.8730192   0.04624525 ... -0.20212881 -0.47378505\n",
            "  -0.87137393]]\n"
          ]
        }
      ]
    },
    {
      "cell_type": "code",
      "source": [
        "X_train,X_test,Y_train,Y_test=train_test_split(feature,target,test_size =0.2,random_state=2)"
      ],
      "metadata": {
        "id": "PLrjyrvJDGqG"
      },
      "execution_count": 57,
      "outputs": []
    },
    {
      "cell_type": "markdown",
      "source": [
        "Training the model"
      ],
      "metadata": {
        "id": "CRbQcyD1E5E3"
      }
    },
    {
      "cell_type": "code",
      "source": [
        "classifier=SVM_classifier(learning_rate=0.01,no_of_iterations=1000,lambda_parameter=0.01)\n",
        "# training the classifier\n",
        "classifier.fit(X_train,Y_train)"
      ],
      "metadata": {
        "id": "xzdv5aa1DdIs"
      },
      "execution_count": 70,
      "outputs": []
    },
    {
      "cell_type": "code",
      "source": [
        "x_predict=classifier.predict(X_train)\n",
        "training_accuracy=accuracy_score(Y_train,x_predict)\n",
        "print(training_accuracy)"
      ],
      "metadata": {
        "colab": {
          "base_uri": "https://localhost:8080/"
        },
        "id": "qZPadLyvQhfW",
        "outputId": "c14b1881-5ff4-4fad-aaa0-c20e083782db"
      },
      "execution_count": 69,
      "outputs": [
        {
          "output_type": "stream",
          "name": "stdout",
          "text": [
            "0.7781402936378466\n"
          ]
        }
      ]
    },
    {
      "cell_type": "code",
      "source": [
        "# testing the accuracy on test data\n",
        "x_predict=classifier.predict(X_test)\n",
        "testing_accuracy=accuracy_score(Y_test,x_predict)\n",
        "print(testing_accuracy)"
      ],
      "metadata": {
        "colab": {
          "base_uri": "https://localhost:8080/"
        },
        "id": "rdtXZtFuR20d",
        "outputId": "3b9ccbc7-c5d3-4f41-be1c-7a6ea761daaf"
      },
      "execution_count": 71,
      "outputs": [
        {
          "output_type": "stream",
          "name": "stdout",
          "text": [
            "0.7922077922077922\n"
          ]
        }
      ]
    },
    {
      "cell_type": "markdown",
      "source": [
        "# New Section"
      ],
      "metadata": {
        "id": "KAynl1F4S2Vt"
      }
    },
    {
      "cell_type": "code",
      "source": [
        "input_data=(2,100,64,23,1000,29.7,0.368,21)\n",
        "nparrayy=np.asarray(input_data)\n",
        "# reshaping\n",
        "newarr=nparrayy.reshape(1,-1)\n",
        "\n",
        "std_data=scaler.transform(newarr)\n",
        "prediction=classifier.predict(std_data)\n",
        "print(prediction)"
      ],
      "metadata": {
        "colab": {
          "base_uri": "https://localhost:8080/"
        },
        "id": "8Lqh48omS1h9",
        "outputId": "55b0b455-e190-4f6e-a0f2-c62449d0533f"
      },
      "execution_count": 81,
      "outputs": [
        {
          "output_type": "stream",
          "name": "stdout",
          "text": [
            "[0]\n"
          ]
        }
      ]
    }
  ]
}